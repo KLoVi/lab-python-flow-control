{
 "cells": [
  {
   "cell_type": "markdown",
   "id": "d3bfc191-8885-42ee-b0a0-bbab867c6f9f",
   "metadata": {
    "tags": []
   },
   "source": [
    "# Lab | Flow Control"
   ]
  },
  {
   "cell_type": "markdown",
   "id": "3851fcd1-cf98-4653-9c89-e003b7ec9400",
   "metadata": {},
   "source": [
    "## Exercise: Managing Customer Orders Optimized\n",
    "\n",
    "In the last lab, you were starting an online store that sells various products. To ensure smooth operations, you developed a program that manages customer orders and inventory.\n",
    "\n",
    "You did so without using flow control. Let's go a step further and improve this code.\n",
    "\n",
    "Follow the steps below to complete the exercise:\n",
    "\n",
    "1. Look at your code from the lab data structures, and improve repeated code with loops.\n",
    "\n",
    "2. Instead of asking the user to input the name of three products that a customer wants to order, do the following:\n",
    "    \n",
    "    a. Prompt the user to enter the name of a product that a customer wants to order.\n",
    "    \n",
    "    b. Add the product name to the \"customer_orders\" set.\n",
    "    \n",
    "    c. Ask the user if they want to add another product (yes/no).\n",
    "    \n",
    "    d. Continue the loop until the user does not want to add another product.\n",
    "\n",
    "3. Instead of updating the inventory by subtracting 1 from the quantity of each product, only do it for  the products that were ordered (those in \"customer_orders\")."
   ]
  },
  {
   "cell_type": "code",
   "execution_count": 140,
   "id": "eb0c322b",
   "metadata": {},
   "outputs": [],
   "source": [
    "products = [\"t-shirt\", \"mug\", \"hat\", \"book\", \"keychain\"]"
   ]
  },
  {
   "cell_type": "code",
   "execution_count": 141,
   "id": "ed4f8850",
   "metadata": {},
   "outputs": [],
   "source": [
    "inventory = dict()"
   ]
  },
  {
   "cell_type": "code",
   "execution_count": 142,
   "id": "e68e3166",
   "metadata": {},
   "outputs": [
    {
     "name": "stdout",
     "output_type": "stream",
     "text": [
      "t-shirt\n",
      "Please write the quantity available in the inventory: 0\n",
      "mug\n",
      "Please write the quantity available in the inventory: 10\n",
      "hat\n",
      "Please write the quantity available in the inventory: 10\n",
      "book\n",
      "Please write the quantity available in the inventory: 10\n",
      "keychain\n",
      "Please write the quantity available in the inventory: 10\n",
      "{'t-shirt': 0, 'mug': 10, 'hat': 10, 'book': 10, 'keychain': 10}\n"
     ]
    }
   ],
   "source": [
    "for item in products:\n",
    "    print (item)\n",
    "    available_inventory = int(input(\"Please write the quantity available in the inventory: \"))\n",
    "    inventory[item] = available_inventory\n",
    "print(inventory)"
   ]
  },
  {
   "cell_type": "code",
   "execution_count": 143,
   "id": "e432d7f8",
   "metadata": {},
   "outputs": [],
   "source": [
    "customer_orders = set()"
   ]
  },
  {
   "cell_type": "code",
   "execution_count": 144,
   "id": "932e111d",
   "metadata": {},
   "outputs": [
    {
     "name": "stdout",
     "output_type": "stream",
     "text": [
      "['t-shirt', 'mug', 'hat', 'book', 'keychain']\n"
     ]
    }
   ],
   "source": [
    "list_inventory_keys = list(inventory.keys())\n",
    "print(list_inventory_keys)"
   ]
  },
  {
   "cell_type": "code",
   "execution_count": 147,
   "id": "28e93d60",
   "metadata": {},
   "outputs": [
    {
     "name": "stdout",
     "output_type": "stream",
     "text": [
      "Please write the type of product you would like to order: \n",
      "This item is not part of our inventory. Please try again!\n",
      "Please write the type of product you would like to order: hat\n",
      "Would you like to add a new product? Please write 1 if YES or 0 if not1\n",
      "Please write the type of product you would like to order: book\n",
      "Would you like to add a new product? Please write 1 if YES or 0 if not0\n",
      "{'book', 'hat', 't-shirt'}\n"
     ]
    }
   ],
   "source": [
    "# Add new products: \n",
    "\n",
    "# a.Prompt the user to enter the name of a product that a customer wants to order.\n",
    "\n",
    "# b. Add the product name to the \"customer_orders\" set.\n",
    "\n",
    "# c. Ask the user if they want to add another product (yes/no).\n",
    "\n",
    "question1 = input(\"Please write the type of product you would like to order: \")\n",
    "\n",
    "while question1 not in list_inventory_keys:\n",
    "    print(\"This item is not part of our inventory. Please try again!\")\n",
    "    question1 = input(\"Please write the type of product you would like to order: \")\n",
    "\n",
    "customer_orders.add(question1)\n",
    "\n",
    "question2 = input(\"Would you like to add a new product? Please write 1 if YES or 0 if not\")\n",
    "\n",
    "while question2 == \"1\":\n",
    "    question1 = input(\"Please write the type of product you would like to order: \")\n",
    "    \n",
    "    while question1 not in list_inventory_keys:\n",
    "        print(\"This item is not part of our inventory. Please try again!\")\n",
    "        question1 = input(\"Please write the type of product you would like to order: \")\n",
    "\n",
    "    customer_orders.add(question1)\n",
    "    question2 = input(\"Would you like to add a new product? Please write 1 if YES or 0 if not\")\n",
    "\n",
    "else:\n",
    "    print(customer_orders)"
   ]
  },
  {
   "cell_type": "code",
   "execution_count": 156,
   "id": "4a97b02a",
   "metadata": {},
   "outputs": [],
   "source": [
    "# Calculate the following order statistics:\n",
    "\n",
    "#Total Products Ordered: The total number of products in the customer_orders set.\n",
    "#Percentage of Products Ordered: The percentage of products ordered compared to the total available products."
   ]
  },
  {
   "cell_type": "code",
   "execution_count": 157,
   "id": "8571b026",
   "metadata": {},
   "outputs": [
    {
     "name": "stdout",
     "output_type": "stream",
     "text": [
      "3\n"
     ]
    }
   ],
   "source": [
    "Total_Ordered = len(customer_orders)\n",
    "print(Total_Ordered)"
   ]
  },
  {
   "cell_type": "code",
   "execution_count": 158,
   "id": "5084f83d",
   "metadata": {
    "scrolled": true
   },
   "outputs": [
    {
     "name": "stdout",
     "output_type": "stream",
     "text": [
      "5\n"
     ]
    }
   ],
   "source": [
    "Total_inventory1 = len(inventory) #number of keys available in the dictionary \n",
    "print(Total_inventory1)"
   ]
  },
  {
   "cell_type": "code",
   "execution_count": 159,
   "id": "4bd619e0",
   "metadata": {},
   "outputs": [
    {
     "name": "stdout",
     "output_type": "stream",
     "text": [
      "60.0\n"
     ]
    }
   ],
   "source": [
    "Percentage_ordered_1 = round(Total_Ordered/Total_inventory1*100,2)\n",
    "print(Percentage_ordered_1)\n",
    "\n",
    "#it makes sense to habe a percentage of \"products types\", because in this case we are not givin the option to introduce several amount of products, only one -type of product-"
   ]
  },
  {
   "cell_type": "code",
   "execution_count": 160,
   "id": "a01c08f5",
   "metadata": {},
   "outputs": [
    {
     "name": "stdout",
     "output_type": "stream",
     "text": [
      "40\n"
     ]
    }
   ],
   "source": [
    "Total_inventory2 = sum(inventory.values()) #number of keys available in the dictionary \n",
    "print(Total_inventory2)"
   ]
  },
  {
   "cell_type": "code",
   "execution_count": 161,
   "id": "d9a49304",
   "metadata": {},
   "outputs": [
    {
     "name": "stdout",
     "output_type": "stream",
     "text": [
      "7.5\n"
     ]
    }
   ],
   "source": [
    "Percentage_ordered_2 = round(Total_Ordered/Total_inventory2*100,2)\n",
    "print(Percentage_ordered_2)"
   ]
  },
  {
   "cell_type": "code",
   "execution_count": 162,
   "id": "1a42ac3b",
   "metadata": {},
   "outputs": [],
   "source": [
    "# Store these statistics in a tuple called order_status."
   ]
  },
  {
   "cell_type": "code",
   "execution_count": 163,
   "id": "6f687d0a",
   "metadata": {},
   "outputs": [
    {
     "name": "stdout",
     "output_type": "stream",
     "text": [
      "<class 'tuple'>\n"
     ]
    }
   ],
   "source": [
    "order_status = (Total_Ordered,Percentage_ordered_2)\n",
    "print(type(order_status))"
   ]
  },
  {
   "cell_type": "code",
   "execution_count": 164,
   "id": "eca7dc98",
   "metadata": {},
   "outputs": [
    {
     "data": {
      "text/plain": [
       "(3, 7.5)"
      ]
     },
     "execution_count": 164,
     "metadata": {},
     "output_type": "execute_result"
    }
   ],
   "source": [
    "order_status"
   ]
  },
  {
   "cell_type": "code",
   "execution_count": 165,
   "id": "0663d870",
   "metadata": {},
   "outputs": [],
   "source": [
    "# Print the order statistics using the following format:\n",
    "\n",
    "#Order Statistics:\n",
    "#Total Products Ordered: <total_products_ordered>\n",
    "#Percentage of Products Ordered: <percentage_ordered>% "
   ]
  },
  {
   "cell_type": "code",
   "execution_count": 166,
   "id": "a8e455ad",
   "metadata": {},
   "outputs": [],
   "source": [
    "Format = (\"Total Products Ordered:\",\"Percentage of Products Ordered:\")"
   ]
  },
  {
   "cell_type": "code",
   "execution_count": 167,
   "id": "8c0406bc",
   "metadata": {
    "scrolled": true
   },
   "outputs": [
    {
     "name": "stdout",
     "output_type": "stream",
     "text": [
      "('Total Products Ordered:', 3)\n",
      "('Percentage of Products Ordered:', 7.5)\n"
     ]
    }
   ],
   "source": [
    "for i in zip (Format, order_status):\n",
    "    print(i)"
   ]
  },
  {
   "cell_type": "code",
   "execution_count": 168,
   "id": "a586a841",
   "metadata": {},
   "outputs": [],
   "source": [
    "# Instead of updating the inventory by subtracting 1 from the quantity of each product, only do it for the products that were ordered (those in \"customer_orders\")."
   ]
  },
  {
   "cell_type": "markdown",
   "id": "83b0f743",
   "metadata": {},
   "source": [
    "number_rest = 1\n",
    "\n",
    "for value in customer_orders:\n",
    "    inventory[value] -= number_rest\n",
    "\n",
    "print(inventory)"
   ]
  },
  {
   "cell_type": "code",
   "execution_count": 173,
   "id": "db248372",
   "metadata": {},
   "outputs": [
    {
     "name": "stdout",
     "output_type": "stream",
     "text": [
      "t-shirt is out of stock!\n",
      "{'t-shirt': 0, 'mug': 10, 'hat': 5, 'book': 5, 'keychain': 10}\n"
     ]
    }
   ],
   "source": [
    "for value in customer_orders:\n",
    "    if value in inventory:   #agregado después del Feedback de Ironhack\n",
    "        if inventory[value] > 0:\n",
    "            inventory[value] -= number_rest\n",
    "        else:\n",
    "            print(f\"{value} is out of stock!\")\n",
    "            \n",
    "print(inventory) "
   ]
  },
  {
   "cell_type": "code",
   "execution_count": 134,
   "id": "96f69da5",
   "metadata": {},
   "outputs": [],
   "source": [
    "# Print the updated inventory, displaying the quantity of each product on separate lines."
   ]
  },
  {
   "cell_type": "code",
   "execution_count": 135,
   "id": "dc11489d",
   "metadata": {},
   "outputs": [
    {
     "name": "stdout",
     "output_type": "stream",
     "text": [
      "t-shirt: 10\n",
      "mug: 10\n",
      "hat: 9\n",
      "book: 9\n",
      "keychain: 10\n"
     ]
    }
   ],
   "source": [
    "for key , value in inventory.items():\n",
    "    print(f\"{key}: {value}\")"
   ]
  }
 ],
 "metadata": {
  "kernelspec": {
   "display_name": "Python 3 (ipykernel)",
   "language": "python",
   "name": "python3"
  },
  "language_info": {
   "codemirror_mode": {
    "name": "ipython",
    "version": 3
   },
   "file_extension": ".py",
   "mimetype": "text/x-python",
   "name": "python",
   "nbconvert_exporter": "python",
   "pygments_lexer": "ipython3",
   "version": "3.11.7"
  }
 },
 "nbformat": 4,
 "nbformat_minor": 5
}
